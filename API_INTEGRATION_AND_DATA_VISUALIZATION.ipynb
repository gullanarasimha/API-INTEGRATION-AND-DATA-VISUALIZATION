{
  "nbformat": 4,
  "nbformat_minor": 0,
  "metadata": {
    "colab": {
      "provenance": []
    },
    "kernelspec": {
      "name": "python3",
      "display_name": "Python 3"
    },
    "language_info": {
      "name": "python"
    }
  },
  "cells": [
    {
      "cell_type": "code",
      "execution_count": 1,
      "metadata": {
        "colab": {
          "base_uri": "https://localhost:8080/"
        },
        "id": "-9IwMXaT2w2o",
        "outputId": "91d1035e-9d99-4493-ef93-78a60c0909e3"
      },
      "outputs": [
        {
          "output_type": "stream",
          "name": "stdout",
          "text": [
            "Weather dashboard for Chennai has been saved as 'weather_dashboard.png'\n"
          ]
        }
      ],
      "source": [
        "import requests\n",
        "import matplotlib.pyplot as plt\n",
        "from datetime import datetime, timedelta\n",
        "\n",
        "API_KEY = \"019bd3a6c8375fedb6dc682d1bdf77dd\"\n",
        "CITY = \"Chennai\"\n",
        "BASE_URL = \"http://api.openweathermap.org/data/2.5/forecast\"\n",
        "\n",
        "\n",
        "params = {\n",
        "    \"q\": CITY,\n",
        "    \"appid\": API_KEY,\n",
        "    \"units\": \"metric\"\n",
        "}\n",
        "\n",
        "response = requests.get(BASE_URL, params=params)\n",
        "data = response.json()\n",
        "\n",
        "\n",
        "if data.get('cod') != '200':\n",
        "    print(f\"Error: {data.get('cod')} - {data.get('message')}\")\n",
        "    print(f\"Full API response: {data}\")\n",
        "    exit()\n",
        "\n",
        "timestamps = []\n",
        "temperatures = []\n",
        "humidity_values = []\n",
        "\n",
        "\n",
        "if 'list' in data:\n",
        "    for item in data['list'][:8]:\n",
        "        timestamp = datetime.fromtimestamp(item['dt'])\n",
        "        timestamps.append(timestamp)\n",
        "        temperatures.append(item['main']['temp'])\n",
        "        humidity_values.append(item['main']['humidity'])\n",
        "else:\n",
        "    print(\"Error: 'list' key not found in API response. Check the API documentation and your request parameters.\")\n",
        "    exit()\n",
        "\n",
        "plt.figure(figsize=(12, 6))\n",
        "\n",
        "plt.subplot(2, 1, 1)\n",
        "plt.plot(timestamps, temperatures, marker='o', linestyle='-', color='red')\n",
        "plt.title(f\"Temperature Forecast for {CITY}\")\n",
        "plt.ylabel(\"Temperature (°C)\")\n",
        "plt.xticks(rotation=45)\n",
        "\n",
        "plt.subplot(2, 1, 2)\n",
        "plt.bar(timestamps, humidity_values, color='blue', alpha=0.7)\n",
        "plt.title(f\"Humidity Forecast for {CITY}\")\n",
        "plt.ylabel(\"Humidity (%)\")\n",
        "plt.xticks(rotation=45)\n",
        "\n",
        "plt.tight_layout()\n",
        "plt.savefig(\"weather_dashboard.png\")\n",
        "plt.close()\n",
        "\n",
        "print(f\"Weather dashboard for {CITY} has been saved as 'weather_dashboard.png'\")"
      ]
    }
  ]
}